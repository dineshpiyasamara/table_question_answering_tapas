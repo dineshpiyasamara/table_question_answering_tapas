{
 "cells": [
  {
   "cell_type": "markdown",
   "metadata": {},
   "source": [
    "[![Open in colab](https://colab.research.google.com/assets/colab-badge.svg)](https://colab.research.google.com/github/dineshpiyasamara/table_question_answering_tapas/blob/master/tapas_qa.ipynb)"
   ]
  },
  {
   "cell_type": "markdown",
   "metadata": {},
   "source": [
    "The TAPAS model was proposed in TAPAS: Weakly Supervised Table Parsing via Pre-training by Jonathan Herzig, Paweł Krzysztof Nowak, Thomas Müller, Francesco Piccinno and Julian Martin Eisenschlos. \n",
    "It’s a BERT-based model specifically designed (and pre-trained) for answering questions about tabular data. \n",
    "\n",
    "Compared to BERT, TAPAS uses relative position embeddings and has 7 token types that encode tabular structure. TAPAS is pre-trained on the masked language modeling (MLM) objective on a large dataset comprising millions of tables from English Wikipedia and corresponding texts.\n",
    "\n",
    "\n",
    "### TAPAS has been fine-tuned on several datasets:\n",
    "- SQA (Sequential Question Answering by Microsoft)\n",
    "- WTQ (Wiki Table Questions by Stanford University)\n",
    "- WikiSQL (by Salesforce).\n",
    "\n",
    "[Read more about `TAPAS` model from `HuggingFace`](https://huggingface.co/docs/transformers/model_doc/tapas)"
   ]
  },
  {
   "cell_type": "markdown",
   "metadata": {},
   "source": [
    "### Install transformers"
   ]
  },
  {
   "cell_type": "code",
   "execution_count": 1,
   "metadata": {},
   "outputs": [],
   "source": [
    "!pip install -q transformers"
   ]
  },
  {
   "cell_type": "markdown",
   "metadata": {},
   "source": [
    "### Importing PyTorch and checking its version"
   ]
  },
  {
   "cell_type": "code",
   "execution_count": 2,
   "metadata": {},
   "outputs": [
    {
     "data": {
      "text/plain": [
       "'2.0.1+cu118'"
      ]
     },
     "execution_count": 2,
     "metadata": {},
     "output_type": "execute_result"
    }
   ],
   "source": [
    "import torch\n",
    "torch.__version__"
   ]
  },
  {
   "cell_type": "code",
   "execution_count": 3,
   "metadata": {},
   "outputs": [],
   "source": [
    "!pip install torch-scatter -f https://pytorch-geometric.com/whl/torch-1.8.0+cu101.html"
   ]
  },
  {
   "cell_type": "markdown",
   "metadata": {},
   "source": [
    "`torch-scatter` is aPyTorch library extension that provides scatter operations on multi-dimensional tensors. It is primarily used for performing sparse operations on large graphs or irregular data structures."
   ]
  },
  {
   "cell_type": "markdown",
   "metadata": {},
   "source": [
    "### Importing necessary libraries"
   ]
  },
  {
   "cell_type": "code",
   "execution_count": 4,
   "metadata": {},
   "outputs": [],
   "source": [
    "from transformers import pipeline\n",
    "import pandas as pd"
   ]
  },
  {
   "cell_type": "markdown",
   "metadata": {},
   "source": [
    "### Initializing the TAPAS model"
   ]
  },
  {
   "cell_type": "markdown",
   "metadata": {},
   "source": [
    "`TAPAS` is a `BERT` based model specifically designed (and pre-trained) for answering questions about tabular data. "
   ]
  },
  {
   "cell_type": "code",
   "execution_count": 5,
   "metadata": {},
   "outputs": [],
   "source": [
    "tqa = pipeline(task=\"table-question-answering\", \n",
    "               model=\"google/tapas-base-finetuned-wtq\")"
   ]
  },
  {
   "cell_type": "markdown",
   "metadata": {},
   "source": [
    "### Dataset"
   ]
  },
  {
   "cell_type": "code",
   "execution_count": 6,
   "metadata": {},
   "outputs": [],
   "source": [
    "data = {\n",
    "    'names':['Kamal', 'Saman', 'Nuwan', 'Gayan', 'Pawan'],\n",
    "    'ages':[43, 54, 23, 23, 42],\n",
    "    'results':['Pass', 'Fail', 'Fail', 'Pass', 'Pass']\n",
    "}\n",
    "df = pd.DataFrame(data)\n",
    "df = df.astype(str)"
   ]
  },
  {
   "cell_type": "markdown",
   "metadata": {},
   "source": [
    "### Get prediction"
   ]
  },
  {
   "cell_type": "code",
   "execution_count": 9,
   "metadata": {},
   "outputs": [
    {
     "data": {
      "text/plain": [
       "{'answer': 'Kamal, Gayan, Pawan',\n",
       " 'coordinates': [(0, 0), (3, 0), (4, 0)],\n",
       " 'cells': ['Kamal', 'Gayan', 'Pawan'],\n",
       " 'aggregator': 'NONE'}"
      ]
     },
     "execution_count": 9,
     "metadata": {},
     "output_type": "execute_result"
    }
   ],
   "source": [
    "answer = tqa(table=df, query=\"who is pass the exam\")\n",
    "answer"
   ]
  },
  {
   "cell_type": "code",
   "execution_count": 10,
   "metadata": {},
   "outputs": [
    {
     "data": {
      "text/plain": [
       "{'answer': 'Saman',\n",
       " 'coordinates': [(1, 0)],\n",
       " 'cells': ['Saman'],\n",
       " 'aggregator': 'NONE'}"
      ]
     },
     "execution_count": 10,
     "metadata": {},
     "output_type": "execute_result"
    }
   ],
   "source": [
    "answer = tqa(table=df, query=\"who has age greater than 50\")\n",
    "answer"
   ]
  },
  {
   "cell_type": "code",
   "execution_count": 11,
   "metadata": {},
   "outputs": [
    {
     "data": {
      "text/plain": [
       "{'answer': 'AVERAGE > 23',\n",
       " 'coordinates': [(2, 1)],\n",
       " 'cells': ['23'],\n",
       " 'aggregator': 'AVERAGE'}"
      ]
     },
     "execution_count": 11,
     "metadata": {},
     "output_type": "execute_result"
    }
   ],
   "source": [
    "answer = tqa(table=df, query=\"how old nuwan\")\n",
    "answer"
   ]
  }
 ],
 "metadata": {
  "kernelspec": {
   "display_name": "env",
   "language": "python",
   "name": "python3"
  },
  "language_info": {
   "codemirror_mode": {
    "name": "ipython",
    "version": 3
   },
   "file_extension": ".py",
   "mimetype": "text/x-python",
   "name": "python",
   "nbconvert_exporter": "python",
   "pygments_lexer": "ipython3",
   "version": "3.10.9"
  },
  "orig_nbformat": 4
 },
 "nbformat": 4,
 "nbformat_minor": 2
}
